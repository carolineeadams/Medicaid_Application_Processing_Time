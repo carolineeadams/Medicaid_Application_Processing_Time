{
 "cells": [
  {
   "cell_type": "markdown",
   "id": "6c990727",
   "metadata": {
    "slideshow": {
     "slide_type": "notes"
    }
   },
   "source": [
    "My name is Caroline Adams and I will be discussing my final project focused on factors that are predictive of Medicaid eligibility determination times across states."
   ]
  },
  {
   "cell_type": "markdown",
   "id": "fbf2c9bb",
   "metadata": {
    "slideshow": {
     "slide_type": "notes"
    }
   },
   "source": [
    "The Medicaid program was designed to support individuals with low incomes and disabilities access health care through the provision of government-funded health insurance.\n",
    "\n",
    "However, multiple barriers exist to eligible individuals receiving Medicaid coverage. Many of these barriers relate to burdensome and lengthy application and eligibility determination processes set by state programs.\n",
    "\n",
    "These burdens can cause delays in the receipt of Medicaid coverage and prevent eligible individuals from being able to access the care that they need when they need it. \n",
    "\n",
    "The purpose of this project is to assess which factors are associated at the state level with the time it takes for states to determine if an individual is eligible for Medicaid coverage. The implications are numerous; as this information could be important to identifying policy solutions that aim to reduce inequities in access to Medicaid coverage."
   ]
  },
  {
   "cell_type": "markdown",
   "id": "ca78cd7a",
   "metadata": {
    "slideshow": {
     "slide_type": "notes"
    }
   },
   "source": [
    "Each state has a unique Medicaid program and incentives to process eligibility determinations quickly or slowly. For example, states with higher incomes have more money to invest in technology that supports fast eligibility determinations. Conversely, other states may want to conserve funds and it may be in their interest to delay the provision of Medicaid coverage for as long as possible. Political motivations may factor into this process as well."
   ]
  },
  {
   "cell_type": "markdown",
   "id": "aa35b2f4",
   "metadata": {
    "slideshow": {
     "slide_type": "notes"
    }
   },
   "source": [
    "To complete this assessment, I am using a variety of data sources to understand what factors are associated with eligibility determination times. \n",
    "\n",
    "The Affordable Care Act allowed states the opportunity to expand their Medicaid programs to populations beyond those that were previously required; most but not all states have taken advantage of this opportunity and expanded their programs. \n",
    "\n",
    "I hypothesized that Medicaid expansion status, managed care presence, total Medicaid enrollment numbers, presence of real-time eligibility determination technology, political leaning, and state demographics would be associated with the time it takes for a state to determine an individual's eligibility for Medicaid. "
   ]
  },
  {
   "cell_type": "markdown",
   "id": "fd294a92",
   "metadata": {
    "slideshow": {
     "slide_type": "notes"
    }
   },
   "source": [
    "To date, I have taken steps in the first two phases of my project: data wrangling and joining, and data visualization.\n",
    "\n",
    "In the first phase, I have downloaded PDF and CSV files for most of my data elements listed on this slide. I have also scraped the 538 website to obtain data on state political leaning.\n",
    "\n",
    "All data sources have been manipulated so that the unit of analysis is the state and that observations are organized by year. Categorical variables have been converted to dummy variables when appropriate. The individual data sources were joined together on the state name."
   ]
  },
  {
   "cell_type": "markdown",
   "id": "ed156be0",
   "metadata": {
    "slideshow": {
     "slide_type": "notes"
    }
   },
   "source": [
    "I have also begun exploring the data visually to see how the predictor variables are associated with the outcome variable. To date, I have created visualizations of the following: \n",
    "\n",
    "    - Medicaid enrollment numbers by state\n",
    "    - Eligibility determination times at the national level\n",
    "        - by determination technology status\n",
    "        - by expansion status\n",
    "        - and by political leaning"
   ]
  },
  {
   "cell_type": "markdown",
   "id": "4ce6434d",
   "metadata": {
    "slideshow": {
     "slide_type": "notes"
    }
   },
   "source": [
    "There are still additional steps I will take to complete the first two phases of the project. \n",
    "\n",
    "I plan to download and manipulate data from the American Community Survey with information on state level demographics. \n",
    "\n",
    "Once I obtain this data, I will also complete additional visual explorations."
   ]
  },
  {
   "cell_type": "markdown",
   "id": "022cbb82",
   "metadata": {
    "slideshow": {
     "slide_type": "notes"
    }
   },
   "source": [
    "Lastly, I will embark on phase 3 of my project, the machine learning component. For this phase, I will train multiple models on a subset of my overall data to assess which are most predictive of state-level eligibility determination times. The models will include the variables discussed previously as predictors. "
   ]
  },
  {
   "cell_type": "code",
   "execution_count": null,
   "id": "62daf438",
   "metadata": {
    "slideshow": {
     "slide_type": "notes"
    }
   },
   "outputs": [],
   "source": [
    "I will now discuss the preliminary results from my work so far."
   ]
  },
  {
   "cell_type": "markdown",
   "id": "6d237b1b",
   "metadata": {
    "slideshow": {
     "slide_type": "notes"
    }
   },
   "source": [
    "As you can see from this chart, total Medicaid enrollment numbers vary extensively by state, with California having the highest number of Medicaid enrollees and South Dakota having the fewest. "
   ]
  },
  {
   "cell_type": "markdown",
   "id": "5ce76e11",
   "metadata": {
    "slideshow": {
     "slide_type": "notes"
    }
   },
   "source": [
    "In this figure, I break out the percentage of eligibility determinations that are made across all states into five time groupings. Within 24 hours, between 1 and 7 days, between 8 and 30 days, between 30 and 45 days, and after 45 days. Nationally, over 50% of eligibility daterminations are made within a week. However, a substantial proportion of determinations take longer than a week to be completed. "
   ]
  },
  {
   "cell_type": "markdown",
   "id": "721ae23e",
   "metadata": {
    "slideshow": {
     "slide_type": "notes"
    }
   },
   "source": [
    "In this figure, I have compared the time it takes for states to make eligibility determinations based on whether they have technology that enables them to complete eligibility determinations automatically. As you can see, states with this technology on average complete determinations much faster than states without."
   ]
  },
  {
   "cell_type": "markdown",
   "id": "33b22986",
   "metadata": {
    "slideshow": {
     "slide_type": "notes"
    }
   },
   "source": [
    "In this figure I have compared the average determination times between states that have expanded their Medicaid programs and states that have not. It is clear that expansion states complete eligibility determinations faster on average, with almost 40% of applications being processed within a day, compared to just over 25% for non-expansion states."
   ]
  },
  {
   "cell_type": "markdown",
   "id": "4bb0969f",
   "metadata": {
    "slideshow": {
     "slide_type": "notes"
    }
   },
   "source": [
    "Lastly, in this figure I have compared average eligibility determination times for states that lean Democrat to states that lean Republican politically. Approximately 50% of eligibility determinations are completed within a day in states that lean Democrat, compared to approximately 25% in states that lean Republican."
   ]
  },
  {
   "cell_type": "markdown",
   "id": "983c2fee",
   "metadata": {
    "slideshow": {
     "slide_type": "notes"
    }
   },
   "source": [
    "Based on my preliminary results, I have come to four preliminary conclusions. \n",
    "\n",
    "Over half of determinations are completed within a week nationally. However, when we break out the data by the factors presented, it is clear that states with faster determination times utilize real-time eligibility determination technology, have expanded their Medicaid program, and lean Democrat politically. The partisan lean of a state seems to be the most associated with the percentage of determinations that are made in real-time."
   ]
  },
  {
   "cell_type": "markdown",
   "id": "08e0962e",
   "metadata": {
    "slideshow": {
     "slide_type": "notes"
    }
   },
   "source": [
    "Through my work so far, I have come across challenges that have provided important learning opportunities. \n",
    "\n",
    "The primary challenge has been the structure and content of my outcome variable. The sample size is limited since the data is collected for each state and has only been published for the years 2018, 2019, and 2020. Additionally, because it is time series data, some adjustments need to be made to my models. Lastly, many states report incomplete data to the federal government. \n",
    "\n",
    "The challenges I have experienced related to my data make clear the difficulties of working with real-world data: it is unfortunately often imperfect, is impacted by human error, and needs to be adjusted to account for limitations."
   ]
  },
  {
   "cell_type": "markdown",
   "id": "ca3ba9b6",
   "metadata": {
    "slideshow": {
     "slide_type": "notes"
    }
   },
   "source": [
    "In conclusion, as I continue to work on my project, I plan to address three primary challenges in the following ways:\n",
    "\n",
    "The application processing time data is currently broken out into the time categories outlined earlier. Given the limitations of this formatting for predictive models, I will recode the data to identify the median processing time for each state in a given month and year.\n",
    "\n",
    "To account for the temporal variation in my outcome variable, I will complete further visual explorations of the data to assess if the outcome variable should be revised and how the models should be structured to obtain the best fit. Given the small sample size, all current data may need to be used as training data and future data that is not released yet may need to be considered the test data.\n",
    "\n",
    "Lastly, to combat the missing data, I will limit my sample to only complete observations.\n",
    "\n",
    "Thank you!"
   ]
  }
 ],
 "metadata": {
  "celltoolbar": "Slideshow",
  "kernelspec": {
   "display_name": "Python 3",
   "language": "python",
   "name": "python3"
  },
  "language_info": {
   "codemirror_mode": {
    "name": "ipython",
    "version": 3
   },
   "file_extension": ".py",
   "mimetype": "text/x-python",
   "name": "python",
   "nbconvert_exporter": "python",
   "pygments_lexer": "ipython3",
   "version": "3.8.8"
  }
 },
 "nbformat": 4,
 "nbformat_minor": 5
}
