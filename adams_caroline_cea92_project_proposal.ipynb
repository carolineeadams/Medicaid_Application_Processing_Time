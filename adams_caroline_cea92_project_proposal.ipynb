{
 "cells": [
  {
   "cell_type": "markdown",
   "id": "4790be18",
   "metadata": {},
   "source": [
    "### Final Project Proposal"
   ]
  },
  {
   "cell_type": "markdown",
   "id": "68281b27",
   "metadata": {},
   "source": [
    "Individuals with low incomes or disabilities face multiple barriers to obtaining Medicaid coverage. Eligibility criteria and determination processes vary widely by state, leading to disparities in ability and time it takes to enroll in Medicaid. I would like to assess characteristics associated with and predictive of the time it takes for state Medicaid agencies to determine a person’s eligibility for Medicaid, which has important implications for a person’s ability to access timely care. The factors of interest at a state level are Medicaid application requirements, technology used to process applications, Medicaid expansion status, presence of managed care, total enrollment and percentage of population eligible for Medicaid, political leaning, income, and other population demographics. \n",
    "\n",
    "I will use a variety of data sources for this project. The Centers for Medicare and Medicaid Services (CMS) publishes PDF reports on the time it takes for states to make eligibility determinations.<sup>1</sup> The data will have to be scraped and averaged across months. CMS also publishes enrollment information by state.<sup>2</sup> Information on application procedures, real-time eligibility determination technology, and Medicaid expansion/managed care status can be obtained from the Kaiser Family Foundation.<sup>3,4,5</sup> Demographic data on race/ethnicity, income and poverty will be obtained from the American Community Survey.<sup>6,7</sup> Information on political leaning by state will be obtained from FiveThirtyEight.<sup>8</sup> All data will be downloaded from the sources listed above as CSV files or scraped from the web. It will be manipulated to ensure that state and year are the indices of observation and joined together on those variables.\n",
    "\n",
    "Multiple data visualizations will be included as part of the project. I will produce figures that display variation in the time it takes to make eligibility determinations by state with different factors layered on top such as Medicaid expansion status, political leaning, state income, or other demographics. Lastly, machine learning methods will be employed on the combined, cleaned data to build a model with the above variables to predict the time it takes for a state to make eligibility determinations for individuals seeking Medicaid coverage. \n",
    "\n",
    "A successful project will include completion of all required elements. This would involve substantial data cleaning, manipulation, and joining methods to result in a combined dataset that can be used for obtaining meaningful insights, production of the outlined data visualizations, and appropriate usage of machine learning methods. \n",
    "\n",
    "In addition to completing all required proper elements, success will involve developing a deeper understanding of the methods learned in class and how to employ them with new data. This is an opportunity to take more ownership and direction over data manipulation, visualization, and analysis and I hope to produce final products that reflect my understanding of the course material. Finally, I hope to have a good understanding of the limitations of the data and methods used in this project given that it will be completed in a short amount of time."
   ]
  },
  {
   "cell_type": "markdown",
   "id": "03020096",
   "metadata": {},
   "source": [
    "References:\n",
    "\n",
    "1.\tCenters for Medicare and Medicaid Services. (n.d.). Medicaid Modified Adjusted Gross Income & Children’s Health Insurance Program Application Processing Time Report. Retrieved from https://www.medicaid.gov/state-overviews/medicaid-modified-adjusted-gross-income-childrens-health-insurance-program-application-processing-time-report/index.html\n",
    "2.\tCenters for Medicare and Medicaid Services. (2021). May 2021 Medicaid and CHIP Enrollment Data Highlights. Retrieved from https://www.medicaid.gov/medicaid/program-information/medicaid-and-chip-enrollment-data/report-highlights/index.html\n",
    "3.\tKaiser Family Foundation. (2020). Medicaid Eligibility Determinations, Applications, and Online Accounts. Retrieved from https://www.kff.org/health-reform/state-indicator/features-of-online-and-telephone-medicaid-applications/?currentTimeframe=0&sortModel=%7B%22colId%22:%22Location%22,%22sort%22:%22asc%22%7D\n",
    "4.\tKaiser Family Foundation. (2021). Status of State Action on the Medicaid Expansion Decision. Retrieved from https://www.kff.org/health-reform/state-indicator/state-activity-around-expanding-medicaid-under-the-affordable-care-act/?currentTimeframe=0&sortModel=%7B%22colId%22:%22Location%22,%22sort%22:%22asc%22%7D\n",
    "5.\tKaiser Family Foundation. (2018). Medicaid Enrollment in Managed Care by Plan Type. Retrieved from https://www.kff.org/medicaid/state-indicator/enrollment-by-medicaid-mc-plan-type/?currentTimeframe=0&sortModel=%7B%22colId%22:%22Location%22,%22sort%22:%22asc%22%7D\n",
    "6.\tUnited States Census Bureau. (2019). ACS Demographic and Housing Estimates. Retrieved from https://data.census.gov/cedsci/table?q=United%20States&g=0100000US&tid=ACSDP1Y2017.DP05&vintage=2017&layer=state&cid=DP05_0001E\n",
    "7.\tUnited States Census Bureau. (2019). Income and Poverty. Retrieved from https://data.census.gov/cedsci/profile?q=United%20States&g=0100000US\n",
    "8.\tFiveThirtyEight. (2021). How red or blue is your state? Retrieved from https://data.census.gov/cedsci/profile?q=United%20States&g=0100000US"
   ]
  }
 ],
 "metadata": {
  "kernelspec": {
   "display_name": "Python 3",
   "language": "python",
   "name": "python3"
  },
  "language_info": {
   "codemirror_mode": {
    "name": "ipython",
    "version": 3
   },
   "file_extension": ".py",
   "mimetype": "text/x-python",
   "name": "python",
   "nbconvert_exporter": "python",
   "pygments_lexer": "ipython3",
   "version": "3.8.8"
  }
 },
 "nbformat": 4,
 "nbformat_minor": 5
}
