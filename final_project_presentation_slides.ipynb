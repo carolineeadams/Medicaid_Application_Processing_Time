{
 "cells": [
  {
   "cell_type": "markdown",
   "id": "06d05863",
   "metadata": {
    "slideshow": {
     "slide_type": "slide"
    }
   },
   "source": [
    "# PPOL 564: Data Science 1 - Foundations\n",
    "## Factors Associated with Variation in Medicaid Application Processing Time by State\n",
    "### Caroline Adams\n",
    "### Final Project Presentation"
   ]
  },
  {
   "cell_type": "markdown",
   "id": "5bc70a72",
   "metadata": {
    "slideshow": {
     "slide_type": "slide"
    }
   },
   "source": [
    "# Problem Statement\n",
    "\n",
    "Individuals with low incomes and/or disabilities face multiple barriers to obtaining Medicaid coverage. Eligibility criteria and determination processes vary widely by state, leading to inequities in ability and time it takes to enroll in Medicaid. "
   ]
  },
  {
   "cell_type": "markdown",
   "id": "c657048b",
   "metadata": {
    "slideshow": {
     "slide_type": "slide"
    }
   },
   "source": [
    "# Background\n",
    "- Medicaid is a safety-net health insurance program jointly financed by states and the federal governments\n",
    "- Primarily provides health care coverage for individuals with low incomes or who have disabilities\n",
    "- 51 state (and D.C.) Medicaid programs, each with unique eligibility criteria and determination processes\n",
    "- Individuals eligible for Medicaid coverage may face substantial delays to receiving coverage for necessary health care services due to state determination processes\n",
    "- State-level factors including wealth, infrastructure (technology and personnel), and political leaning are thought to influence eligibility processes"
   ]
  },
  {
   "cell_type": "markdown",
   "id": "a5408c61",
   "metadata": {
    "slideshow": {
     "slide_type": "slide"
    }
   },
   "source": [
    "# Methods Considered\n",
    "- Data wrangling and joining\n",
    "- Data visualization\n",
    "- Machine learning"
   ]
  },
  {
   "cell_type": "markdown",
   "id": "2a423084",
   "metadata": {
    "slideshow": {
     "slide_type": "slide"
    }
   },
   "source": [
    "# Methods Used To Date\n",
    "- Data wrangling and joining\n",
    "- Data visualization"
   ]
  },
  {
   "cell_type": "markdown",
   "id": "d40f6eb7",
   "metadata": {
    "slideshow": {
     "slide_type": "slide"
    }
   },
   "source": [
    "# Preliminary Results\n",
    "- Most states have ability to make real-time eligibility determinations but do not"
   ]
  },
  {
   "cell_type": "markdown",
   "id": "4bad43cc",
   "metadata": {
    "slideshow": {
     "slide_type": "slide"
    }
   },
   "source": [
    "# Preliminary Conclusions"
   ]
  },
  {
   "cell_type": "markdown",
   "id": "1fbcd050",
   "metadata": {
    "slideshow": {
     "slide_type": "slide"
    }
   },
   "source": [
    "# Lessons Learned\n",
    "- Issues with application processing time data\n",
    "- Need to mitigate time series data challenges for machine learning component\n",
    "- Incomplete data collection by states - lots of missing data for enrollment numbers "
   ]
  },
  {
   "cell_type": "markdown",
   "id": "f1899668",
   "metadata": {
    "slideshow": {
     "slide_type": "slide"
    }
   },
   "source": [
    "# Plans to Mitigate Challenges"
   ]
  }
 ],
 "metadata": {
  "celltoolbar": "Slideshow",
  "kernelspec": {
   "display_name": "Python 3",
   "language": "python",
   "name": "python3"
  },
  "language_info": {
   "codemirror_mode": {
    "name": "ipython",
    "version": 3
   },
   "file_extension": ".py",
   "mimetype": "text/x-python",
   "name": "python",
   "nbconvert_exporter": "python",
   "pygments_lexer": "ipython3",
   "version": "3.8.8"
  }
 },
 "nbformat": 4,
 "nbformat_minor": 5
}
